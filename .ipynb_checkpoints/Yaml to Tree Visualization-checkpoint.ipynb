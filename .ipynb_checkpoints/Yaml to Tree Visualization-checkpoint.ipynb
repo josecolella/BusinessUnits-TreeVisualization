{
 "cells": [
  {
   "cell_type": "code",
   "execution_count": 2,
   "metadata": {
    "collapsed": true
   },
   "outputs": [],
   "source": [
    "import json"
   ]
  },
  {
   "cell_type": "code",
   "execution_count": 3,
   "metadata": {
    "collapsed": true
   },
   "outputs": [],
   "source": [
    "import yaml"
   ]
  },
  {
   "cell_type": "code",
   "execution_count": 4,
   "metadata": {
    "collapsed": true
   },
   "outputs": [],
   "source": [
    "with open('BusinessUnits.yml') as f:\n",
    "    yaml_output = yaml.load(f.read())"
   ]
  },
  {
   "cell_type": "code",
   "execution_count": 5,
   "metadata": {},
   "outputs": [
    {
     "data": {
      "text/plain": [
       "list"
      ]
     },
     "execution_count": 5,
     "metadata": {},
     "output_type": "execute_result"
    }
   ],
   "source": [
    "type(yaml_output)"
   ]
  },
  {
   "cell_type": "code",
   "execution_count": 6,
   "metadata": {},
   "outputs": [
    {
     "data": {
      "text/plain": [
       "dict_keys(['name', 'uid', 'type', 'primarySource', 'filtered', 'transactions', 'rules', 'id'])"
      ]
     },
     "execution_count": 6,
     "metadata": {},
     "output_type": "execute_result"
    }
   ],
   "source": [
    "yaml_output[1].keys()"
   ]
  },
  {
   "cell_type": "markdown",
   "metadata": {},
   "source": [
    "## name of the application"
   ]
  },
  {
   "cell_type": "code",
   "execution_count": 7,
   "metadata": {},
   "outputs": [
    {
     "data": {
      "text/plain": [
       "'Bershka'"
      ]
     },
     "execution_count": 7,
     "metadata": {},
     "output_type": "execute_result"
    }
   ],
   "source": [
    "yaml_output[1]['name']"
   ]
  },
  {
   "cell_type": "markdown",
   "metadata": {},
   "source": [
    "## Transactions of the application"
   ]
  },
  {
   "cell_type": "code",
   "execution_count": 8,
   "metadata": {},
   "outputs": [
    {
     "name": "stdout",
     "output_type": "stream",
     "text": [
      "<class 'list'>\n"
     ]
    }
   ],
   "source": [
    "# make sure to not include transactions that are null and `All other` application\n",
    "applications_transactions = [{\"application\": i.get('name'), \"transactions\": i.get('transactions'), \"type\": type(i.get('transactions'))} for i in yaml_output if i.get('name') != \"All other\" and i.get('transactions') not in (None, \"All other\")]\n",
    "print(type(applications_transactions))\n",
    "#print(applications_transactions[0])\n",
    "#print(json.dumps(applications_transactions))"
   ]
  },
  {
   "cell_type": "code",
   "execution_count": 13,
   "metadata": {
    "collapsed": true
   },
   "outputs": [],
   "source": [
    "cleanUpName = lambda x: x.get('name') != \"All other\"\n",
    "cleanUpTransactions = lambda x: x.get('transactions') not in (None, \"All Other\")\n",
    "\n",
    "# applications = {}\n",
    "# for application in yaml_output:\n",
    "#      if cleanUpName(application) and cleanUpTransactions(application):\n",
    "#             applications[application.get('name')] = {}\n",
    "#             application_transactions = application.get('transactions')\n",
    "#             for transaction in application_transactions:\n",
    "#                 if cleanUpName(transaction):\n",
    "#                     applications[application.get('name')][transaction['name']] = [step['name'] for step in transaction['steps'] if step.get('name') != 'All other']\n",
    "#                 #print(json.dumps(applications))\n"
   ]
  },
  {
   "cell_type": "code",
   "execution_count": 14,
   "metadata": {
    "scrolled": false
   },
   "outputs": [
    {
     "name": "stdout",
     "output_type": "stream",
     "text": [
      "[{\"name\": \"Bershka\", \"children\": [{\"name\": \"BusquedaRest\", \"children\": [\"ProductSearch\", \"Product Detail\"]}, {\"name\": \"Detalle Pago\", \"children\": [\"Punchout CyberSource\", \"Punchout Paypal\", \"Punchout Rsb\", \"Punchout WorldPay\", \"Punchout WorldPayApm\", \"Punchout Alipay\"]}, {\"name\": \"DevolucionesRest\", \"children\": [\"ReturnReasons\", \"PeticionDevolucion\"]}, {\"name\": \"Estado Pago\", \"children\": [\"PaymentStatus\"]}, {\"name\": \"FacturasRest\", \"children\": []}, {\"name\": \"Home\", \"children\": [\"Home Page\"]}, {\"name\": \"LibroDireccionesRest\", \"children\": [\"AddressBook\", \"Address\"]}, {\"name\": \"LogonRest\", \"children\": [\"LogonGuest\", \"Logon\", \"PasswordMobile\"]}, {\"name\": \"MarketingSpot\", \"children\": [\"SpotList\"]}, {\"name\": \"Mobile\", \"children\": [\"Step 1\"]}, {\"name\": \"Navegacion Web\", \"children\": [\"Producto Seo Friendly\", \"Categoria Seo Friendly\"]}, {\"name\": \"NavegacionRest\", \"children\": [\"ProductList\", \"CategoryStock\", \"Category\", \"ProductStock\", \"ProductListStock\", \"BundleColors\", \"StoreInfoDetails\", \"CategoryList\"]}, {\"name\": \"NewsletterRest\", \"children\": [\"NewsletterConfirmation\", \"Newsletter\"]}, {\"name\": \"PedidosRealizadosRest\", \"children\": [\"OrderPreview\", \"OrderList\", \"Order\"]}, {\"name\": \"ProcesoCompraRest\", \"children\": [\"StockAvailabilityNotification\", \"WishList\", \"WalletInfo\", \"UserWalletCards\", \"ShippingMethods\", \"AddPromotionalCode\", \"PaymentMethods\", \"CheckoutShipping\", \"IdealBanks\", \"Carrito de la Compra\"]}, {\"name\": \"RegistroRest\", \"children\": [\"Registrar Usuario\", \"RestoEstandar\"]}, {\"name\": \"Solicitar Pago\", \"children\": [\"Checkout\", \"CheckoutPayment\", \"AsyncCheckout\", \"AsyncRepay\"]}, {\"name\": \"TarjetaRegaloRest\", \"children\": [\"Step 1\"]}, {\"name\": \"TiendaRest\", \"children\": [\"StateList\", \"PhysicalStore\", \"PhysicalStoreList\", \"CountryList\", \"DropPointList\"]}, {\"name\": \"TiendasFavoritasRest\", \"children\": [\"Step 1\"]}, {\"name\": \"UsuarioRest\", \"children\": [\"Datos de Usuario\"]}, {\"name\": \"All other\", \"children\": []}]}, {\"name\": \"ChatZara\", \"children\": [{\"name\": \"All other\", \"children\": []}]}, {\"name\": \"CommerceInventory\", \"children\": [{\"name\": \"All other\", \"children\": []}]}, {\"name\": \"Compas\", \"children\": [{\"name\": \"All other\", \"children\": []}]}, {\"name\": \"Exclusiones\", \"children\": [{\"name\": \"All other\", \"children\": []}]}, {\"name\": \"GipiCadenas\", \"children\": [{\"name\": \"All other\", \"children\": []}]}, {\"name\": \"GipiZara\", \"children\": [{\"name\": \"All other\", \"children\": []}]}, {\"name\": \"InDomWS\", \"children\": [{\"name\": \"CancelOrder\", \"children\": [\"CancelOrder\"]}, {\"name\": \"ModifyOrder\", \"children\": [\"ModifyOrder\"]}, {\"name\": \"NewOrder\", \"children\": [\"NewOrder\"]}, {\"name\": \"StockQuery\", \"children\": [\"StockQuery\"]}, {\"name\": \"UpdateAddress\", \"children\": [\"UpdateAddress\"]}, {\"name\": \"All other\", \"children\": []}]}, {\"name\": \"InDomZaraWS\", \"children\": [{\"name\": \"All other\", \"children\": []}]}, {\"name\": \"InWallet\", \"children\": [{\"name\": \"All other\", \"children\": []}]}, {\"name\": \"Lefties\", \"children\": [{\"name\": \"AutorizacionPagosRest\", \"children\": [\"Step 1\"]}, {\"name\": \"Busqueda\", \"children\": []}, {\"name\": \"BusquedaRest\", \"children\": [\"Step 1\", \"ProductSearch\", \"Product Detail\"]}, {\"name\": \"Detalle Pago\", \"children\": [\"Step 1\", \"Punchout Generico\", \"Punchout CyberSource\", \"Punchout Paypal\", \"Punchout Rsb\", \"Punchout WorldPayApm\", \"Punchout Alipay\"]}, {\"name\": \"DevolucionesRest\", \"children\": [\"PeticionDevolucion\", \"ReturnReasons\"]}, {\"name\": \"Estado Pago\", \"children\": [\"Step 1\", \"PaymentStatus\"]}, {\"name\": \"Home\", \"children\": [\"Step 1\", \"Home Page\"]}, {\"name\": \"itxrest\", \"children\": [\"Step 1\"]}, {\"name\": \"LibroDireccionesRest\", \"children\": [\"Step 1\", \"Address\", \"AddressBook\"]}, {\"name\": \"LogonRest\", \"children\": [\"Step 1\", \"LogonGuest\", \"Logon\"]}, {\"name\": \"MarketingSpotRest\", \"children\": [\"Step 1\", \"SpotList\"]}, {\"name\": \"Navegacion Web\", \"children\": [\"Step 1\", \"Category\", \"Product Seo Friendly\"]}, {\"name\": \"NavegacionRest\", \"children\": [\"Step 1\", \"ProductList\", \"CategoryStock\", \"Category\", \"ProductStock\", \"ProductListStock\", \"BundleColors\", \"StoreInfoDetails\", \"CategoryList\"]}, {\"name\": \"NewsletterRest\", \"children\": [\"NewsletterConfirmation\", \"Newsletter\"]}, {\"name\": \"OamRest\", \"children\": [\"Step 1\"]}, {\"name\": \"PedidosRealizadosRest\", \"children\": [\"Step 1\", \"OrderPreview\", \"OrderList\", \"Order\"]}, {\"name\": \"ProcesoCompraRest\", \"children\": [\"Step 1\", \"StockAvailabilityNotification\", \"WishList\", \"WalletInfo\", \"UserWalletCards\", \"ShippingMethods\", \"AddPromotionalCode\", \"PaymentMethods\", \"CheckoutShipping\", \"IdealBanks\", \"Carrito de la Compra\"]}, {\"name\": \"RegistroRest\", \"children\": [\"Step 1\", \"Registrar Usuario\"]}, {\"name\": \"SolicitarPago\", \"children\": [\"Step 1\", \"Checkout\", \"CheckoutPayment\", \"AsyncCheckout\", \"AsyncRepay\"]}, {\"name\": \"TarjetaRegaloRest\", \"children\": [\"Step 1\"]}, {\"name\": \"TiendaRest\", \"children\": [\"Step 1\", \"StateList\", \"PhysicalStore\", \"PhysicalStoreList\", \"CountryList\", \"DropPointList\"]}, {\"name\": \"TiendasFavoritasRest\", \"children\": [\"Step 1\"]}, {\"name\": \"UsuarioRest\", \"children\": [\"Step 1\", \"Datos de Usuario\"]}, {\"name\": \"All other\", \"children\": []}]}, {\"name\": \"MassimoDutti\", \"children\": [{\"name\": \"BusquedaRest\", \"children\": [\"ProductSearch\", \"Product Detail\"]}, {\"name\": \"Detalle Pago\", \"children\": [\"Punchout Generico\", \"Punchout CyberSource\", \"Punchout Paypal\", \"Punchout Rsb\", \"Punchout WorldPay\", \"Punchout WorldPayApm\", \"Punchout Alipay\"]}, {\"name\": \"DevolucionesRest\", \"children\": [\"ReturnReasons\", \"PeticionDevolucion\"]}, {\"name\": \"Estado Pago\", \"children\": [\"PaymentStatus\"]}, {\"name\": \"FacturasRest\", \"children\": [\"Step 1\"]}, {\"name\": \"Home\", \"children\": [\"Home Page\"]}, {\"name\": \"Home WebMobile\", \"children\": [\"Step 1\"]}, {\"name\": \"itxrest\", \"children\": [\"Step 1\"]}, {\"name\": \"LibroDireccionesRest\", \"children\": [\"AddressBook\", \"Address\"]}, {\"name\": \"Login\", \"children\": [\"Step 1\"]}, {\"name\": \"LogonRest\", \"children\": [\"LogonGuest\", \"Logon\"]}, {\"name\": \"MarketingSpotRest\", \"children\": [\"SpotList\"]}, {\"name\": \"Mobile\", \"children\": [\"Step 1\"]}, {\"name\": \"Navegacion Web\", \"children\": [\"Category\", \"Producto Seo Friendly\", \"Categoria Seo Friendly\"]}, {\"name\": \"Navegacion WebMobile\", \"children\": [\"Step 1\"]}, {\"name\": \"NavegacionRest\", \"children\": [\"ProductList\", \"CategoryStock\", \"Category\", \"ProductStock\", \"ProductListStock\", \"BundleColors\", \"StoreInfoDetails\", \"CategoryList\"]}, {\"name\": \"NewsletterRest\", \"children\": [\"Step 1\", \"NewsletterConfirmation\", \"Newsletter\"]}, {\"name\": \"OAMRest\", \"children\": [\"Step 1\"]}, {\"name\": \"PedidosRealizadosRest\", \"children\": [\"Step 1\", \"OrderPreview\", \"OrderList\", \"Order\"]}, {\"name\": \"ProcesoCompraRest\", \"children\": [\"StockAvailabilityNotification\", \"WishList\", \"WalletInfo\", \"UserWalletCards\", \"ShippingMethods\", \"AddPromotionalCode\", \"PaymentMethods\", \"CheckoutShipping\", \"IdealBanks\", \"Carrito de la Compra\"]}, {\"name\": \"RegistroRest\", \"children\": [\"Step 1\", \"Registrar Usuario\"]}, {\"name\": \"RestoEstandar\", \"children\": [\"Step 1\"]}, {\"name\": \"Solicitar Pago\", \"children\": [\"Step 1\", \"Checkout\", \"CheckoutPayment\", \"AsyncCheckout\", \"AsyncRepay\"]}, {\"name\": \"TarjetaRegaloRest\", \"children\": [\"Step 1\"]}, {\"name\": \"TiendaRest\", \"children\": [\"Step 1\", \"StateList\", \"PhysicalStore\", \"PhysicalStoreList\", \"CountryList\", \"DropPointList\"]}, {\"name\": \"TiendasFavoritasRest\", \"children\": [\"Step 1\"]}, {\"name\": \"UsuarioRest\", \"children\": [\"Datos de Usuario\"]}, {\"name\": \"All other\", \"children\": []}]}, {\"name\": \"Moca\", \"children\": [{\"name\": \"All other\", \"children\": []}]}, {\"name\": \"MPS\", \"children\": [{\"name\": \"All other\", \"children\": []}]}, {\"name\": \"Oysho\", \"children\": [{\"name\": \"BusquedaRest\", \"children\": [\"Step 1\", \"ProductSearch\", \"Product Detail\"]}, {\"name\": \"Detalle Pago\", \"children\": [\"Step 1\", \"Punchout Generico\", \"Punchout CyberSource\", \"Punchout Paypal\", \"Punchout Rsb\", \"Punchout WorldPay\", \"Punchout WorldPayApm\", \"Punchout Alipay\"]}, {\"name\": \"DevolucionesRest\", \"children\": [\"Step 1\", \"ReturnReasons\", \"PeticionDevolucion\"]}, {\"name\": \"Estado Pago\", \"children\": [\"Step 1\", \"PaymentStatus\"]}, {\"name\": \"Home\", \"children\": [\"Step 1\", \"Home Page\"]}, {\"name\": \"Home WebMobile\", \"children\": [\"Step 1\"]}, {\"name\": \"itxrest\", \"children\": [\"Step 1\"]}, {\"name\": \"LibroDireccionesRest\", \"children\": [\"Step 1\", \"AddressBook\", \"Address\"]}, {\"name\": \"LogonRest\", \"children\": [\"Step 1\", \"LogonGuest\", \"Logon\", \"PasswordMobile\"]}, {\"name\": \"MarketingSpotRest\", \"children\": [\"Step 1\", \"SpotList\"]}, {\"name\": \"Mobile\", \"children\": [\"Step 1\"]}, {\"name\": \"Navegacion Web\", \"children\": [\"Step 1\", \"Category\", \"Producto Seo Friendly\", \"Categoria Seo Friendly\"]}, {\"name\": \"Navegacion WebMobile\", \"children\": [\"Step 1\", \"NavegacionRest\"]}, {\"name\": \"NavegacionRest\", \"children\": [\"Step 1\", \"ProductList\", \"CategoryStock\", \"Category\", \"ProductStock\", \"ProductListStock\", \"BundleColors\", \"StoreInfoDetails\", \"CategoryList\"]}, {\"name\": \"NewsletterRest\", \"children\": [\"Step 1\", \"NewsletterConfirmation\", \"Newsletter\"]}, {\"name\": \"OamRest\", \"children\": [\"Step 1\"]}, {\"name\": \"PedidosRealizadosRest\", \"children\": [\"Step 1\", \"OrderPreview\", \"OrderList\", \"Order\"]}, {\"name\": \"ProcesoCompraRest\", \"children\": [\"Step 1\", \"StockAvailabilityNotification\", \"WishList\", \"WalletInfo\", \"UserWalletCards\", \"ShippingMethods\", \"AddPromotionalCode\", \"PaymentMethods\", \"CheckoutShipping\", \"IdealBanks\", \"Carrito de la Compra\"]}, {\"name\": \"RegistroRest\", \"children\": [\"Step 1\", \"Registrar Usuario\"]}, {\"name\": \"RestoEstandar\", \"children\": [\"Step 1\"]}, {\"name\": \"Solicitar Pago\", \"children\": [\"Step 1\", \"Checkout\", \"CheckoutPayment\", \"AsyncCheckout\", \"AsyncRepay\"]}, {\"name\": \"TarjetaRegaloRest\", \"children\": [\"Step 1\"]}, {\"name\": \"TiendaRest\", \"children\": [\"Step 1\", \"StateList\", \"PhysicalStore\", \"PhysicalStoreList\", \"CountryList\", \"DropPointList\"]}, {\"name\": \"TiendasFavoritasRest\", \"children\": [\"Step 1\"]}, {\"name\": \"UsuarioRest\", \"children\": [\"Step 1\", \"Datos de Usuario\"]}, {\"name\": \"All other\", \"children\": []}]}, {\"name\": \"PullAndBear\", \"children\": [{\"name\": \"BusquedaRest\", \"children\": [\"ProductSearch\", \"Product Detail\"]}, {\"name\": \"Detalle Pago\", \"children\": [\"Punchout Generico\", \"Punchout CyberSource\", \"Punchout Paypal\", \"Punchout Rsb\", \"Punchout WorldPay\", \"Punchout WorldPayApm\", \"Punchout Alipay\"]}, {\"name\": \"DevolucionesRest\", \"children\": [\"ReturnReasons\", \"PeticionDevolucion\"]}, {\"name\": \"Estado Pago\", \"children\": [\"PaymentStatus\"]}, {\"name\": \"Home\", \"children\": [\"Home Page\"]}, {\"name\": \"Home WebMobile\", \"children\": [\"Step 1\"]}, {\"name\": \"itxrest\", \"children\": [\"Step 1\"]}, {\"name\": \"LibroDireccionRest\", \"children\": [\"AddressBook\", \"Address\"]}, {\"name\": \"LogonRest\", \"children\": [\"LogonGuest\", \"Logon\", \"PasswordMobile\"]}, {\"name\": \"MarketingSpotRest\", \"children\": [\"SpotList\"]}, {\"name\": \"Mobile\", \"children\": [\"Step 1\"]}, {\"name\": \"Navegacion Web\", \"children\": [\"Category\", \"Producto Seo Friendly\", \"Categoria Seo Friendly\"]}, {\"name\": \"NavegacionRest\", \"children\": [\"ProductList\", \"CategoryStock\", \"Category\", \"ProductStock\", \"ProductListStock\", \"BundleColors\", \"StoreInfoDetails\", \"CategoryList\"]}, {\"name\": \"NewsletterRest\", \"children\": [\"NewsletterConfirmation\", \"Newsletter\"]}, {\"name\": \"PedidosRealizadosRest\", \"children\": [\"OrderPreview\", \"OrderList\", \"Order\"]}, {\"name\": \"ProcesoCompraRest\", \"children\": [\"StockAvailabilityNotification\", \"WishList\", \"WalletInfo\", \"UserWalletCards\", \"ShippingMethods\", \"AddPromotionalCode\", \"PaymentMethods\", \"CheckoutShipping\", \"IdealBanks\", \"Carrito de la Compra\"]}, {\"name\": \"RegistroRest\", \"children\": [\"Registrar Usuario\"]}, {\"name\": \"RestoEstandar\", \"children\": [\"Step 1\"]}, {\"name\": \"Solicitar Pago\", \"children\": [\"Checkout\", \"CheckoutPayment\", \"AsyncCheckout\", \"AsyncRepay\"]}, {\"name\": \"TarjetaRegaloRest\", \"children\": [\"Step 1\"]}, {\"name\": \"TiendaRest\", \"children\": [\"StateList\", \"PhysicalStore\", \"PhysicalStoreList\", \"CountryList\", \"DropPointList\"]}, {\"name\": \"TiendasFavoritasRest\", \"children\": [\"Step 1\"]}, {\"name\": \"UsuarioRest\", \"children\": [\"Datos de Usuario\"]}, {\"name\": \"All other\", \"children\": []}]}, {\"name\": \"PushZara\", \"children\": [{\"name\": \"Device\", \"children\": [\"Notification\", \"Device\"]}, {\"name\": \"All other\", \"children\": []}]}, {\"name\": \"Recuperacion Ticket eCommerce\", \"children\": [{\"name\": \"All other\", \"children\": []}]}, {\"name\": \"RupertaWS\", \"children\": [{\"name\": \"All other\", \"children\": []}]}, {\"name\": \"Static Bershka\", \"children\": [{\"name\": \"All other\", \"children\": []}]}, {\"name\": \"Static Lefties\", \"children\": [{\"name\": \"All other\", \"children\": []}]}, {\"name\": \"Static MassimoDutti\", \"children\": [{\"name\": \"All other\", \"children\": []}]}, {\"name\": \"Static Oysho\", \"children\": [{\"name\": \"All other\", \"children\": []}]}, {\"name\": \"Static PullAndBear\", \"children\": [{\"name\": \"All other\", \"children\": []}]}, {\"name\": \"Static Stradivarius\", \"children\": [{\"name\": \"All other\", \"children\": []}]}, {\"name\": \"Static Uterque\", \"children\": [{\"name\": \"All other\", \"children\": []}]}, {\"name\": \"Static Zara\", \"children\": [{\"name\": \"All other\", \"children\": []}]}, {\"name\": \"Static ZaraHome\", \"children\": [{\"name\": \"All other\", \"children\": []}]}, {\"name\": \"Stradivarius\", \"children\": [{\"name\": \"Busqueda\", \"children\": [\"Step 1\"]}, {\"name\": \"BusquedaRest\", \"children\": [\"Step 1\", \"ProductSearch\", \"Product Detail\"]}, {\"name\": \"Detalle Pago\", \"children\": [\"Step 1\", \"Punchout Generico\", \"Punchout CyberSource\", \"Punchout Paypal\", \"Punchout Rsb\", \"Punchout WorldPay\", \"Punchout WorldPayApm\", \"Punchout Alipay\"]}, {\"name\": \"DevolucionesRest\", \"children\": [\"Step 1\", \"PeticionDevolucion\"]}, {\"name\": \"Estado Pago\", \"children\": [\"Step 1\", \"PaymentStatus\"]}, {\"name\": \"Home\", \"children\": [\"Step 1\", \"Home Page\"]}, {\"name\": \"LibroDireccionesRest\", \"children\": [\"Step 1\", \"AddressBook\", \"Address\"]}, {\"name\": \"LogonRest\", \"children\": [\"Step 1\", \"LogonGuest\", \"Logon\", \"PasswordMobile\"]}, {\"name\": \"MarketingSpotRest\", \"children\": [\"Step 1\", \"SpotList\"]}, {\"name\": \"Navegacion Web\", \"children\": [\"Step 1\", \"Category\", \"Producto Seo Friendly\", \"Categoria Seo Friendly\"]}, {\"name\": \"NavegacionRest\", \"children\": [\"Step 1\", \"ProductList\", \"CategoryStock\", \"Category\", \"ProductStock\", \"ProductListStock\", \"BundleColors\", \"StoreInfoDetails\", \"CategoryList\"]}, {\"name\": \"NewsletterRest\", \"children\": [\"Step 1\", \"NewsletterConfirmation\", \"Newsletter\"]}, {\"name\": \"OamRest\", \"children\": [\"Step 1\"]}, {\"name\": \"PedidosRealizadosRest\", \"children\": [\"Step 1\", \"OrderPreview\", \"OrderList\", \"Order\"]}, {\"name\": \"ProcesoCompraRest\", \"children\": [\"Step 1\", \"StockAvailabilityNotification\", \"WishList\", \"WalletInfo\", \"UserWalletCards\", \"ShippingMethods\", \"AddPromotionalCode\", \"PaymentMethods\", \"CheckoutShipping\", \"IdealBanks\", \"Carrito de la Compra\"]}, {\"name\": \"RegistroRest\", \"children\": [\"Step 1\", \"Registrar Usuario\"]}, {\"name\": \"RestoEstandar\", \"children\": [\"Step 1\"]}, {\"name\": \"Solicitar Pago\", \"children\": [\"Step 1\", \"Checkout\", \"CheckoutPayment\", \"AsyncCheckout\", \"AsyncRepay\"]}, {\"name\": \"TarjetaRegaloRest\", \"children\": [\"Step 1\"]}, {\"name\": \"TiendaRest\", \"children\": [\"Step 1\", \"StateList\", \"PhysicalStore\", \"PhysicalStoreList\", \"CountryList\", \"DropPointList\"]}, {\"name\": \"TiendasFavoritasRest\", \"children\": [\"Step 1\"]}, {\"name\": \"UsuarioRest\", \"children\": [\"Step 1\", \"Datos de Usuario\"]}, {\"name\": \"All other\", \"children\": []}]}, {\"name\": \"Tarjeta Regalo\", \"children\": [{\"name\": \"All other\", \"children\": []}]}, {\"name\": \"Test Zara\", \"children\": [{\"name\": \"Europe Login\", \"children\": [\"Step 1\"]}, {\"name\": \"All other\", \"children\": []}]}, {\"name\": \"Uterque\", \"children\": [{\"name\": \"Busqueda\", \"children\": [\"Step 1\"]}, {\"name\": \"BusquedaRest\", \"children\": [\"ProductSearch\", \"Product Detail\"]}, {\"name\": \"Detalle Pago\", \"children\": [\"Punchout Generico\", \"Punchout CyberSource\", \"Puchout Paypal\", \"Puchout Rsb\", \"Punchout WorldPay\", \"Punchout WorldPayApm\", \"Punchout Alipay\"]}, {\"name\": \"DevolucionesRest\", \"children\": [\"ReturnReasons\", \"PeticionDevolucion\"]}, {\"name\": \"Estado Pago\", \"children\": [\"PaymentStatus\"]}, {\"name\": \"Home\", \"children\": [\"Step 1\", \"Home Page\", \"Home Page Pais\"]}, {\"name\": \"LibroDireccionesRest\", \"children\": [\"Step 1\", \"AddressBook\", \"Address\"]}, {\"name\": \"LogonRest\", \"children\": [\"LogonGuest\", \"Logon\", \"PasswordMobile\"]}, {\"name\": \"MarketingSpotRest\", \"children\": [\"Step 1\", \"SpotList\"]}, {\"name\": \"Navegacion Web\", \"children\": [\"Category\", \"Producto Seo Friendly\", \"Categoria Seo Friendly\"]}, {\"name\": \"NavegacionRest\", \"children\": [\"ProductList\", \"CategoryStock\", \"Category\", \"ProductStock\", \"ProductListStock\", \"BundleColors\", \"StoreInfoDetails\", \"CategoryList\"]}, {\"name\": \"NewsletterRest\", \"children\": [\"NewsletterConfirmation\", \"Newsletter\"]}, {\"name\": \"OamRest\", \"children\": [\"Step 1\"]}, {\"name\": \"PedidosRealizadosRest\", \"children\": [\"OrderPreview\", \"OrderList\", \"Order\"]}, {\"name\": \"ProcesoCompraRest\", \"children\": [\"StockAvailabilityNotification\", \"WishList\", \"WalletInfo\", \"UserWalletCards\", \"ShippingMethods\", \"AddPromotionalCode\", \"PaymentMethods\", \"CheckoutShipping\", \"IdealBanks\", \"Carrito de la Compra\"]}, {\"name\": \"RegistroRest\", \"children\": [\"Registrar Usuario\"]}, {\"name\": \"RestoEstandar\", \"children\": [\"Step 1\"]}, {\"name\": \"Solicitar Pago\", \"children\": [\"Checkout\", \"CheckoutPayment\", \"AsyncCheckout\", \"AsyncRepay\"]}, {\"name\": \"TarjetaRegaloRest\", \"children\": [\"Step 1\"]}, {\"name\": \"TiendaRest\", \"children\": [\"StateList\", \"PhysicalStore\", \"PhysicalStoreList\", \"CountryList\", \"DropPointList\"]}, {\"name\": \"TiendasFavortiasRest\", \"children\": [\"Step 1\"]}, {\"name\": \"UsuarioRest\", \"children\": [\"Datos de Usuario\"]}, {\"name\": \"All other\", \"children\": []}]}, {\"name\": \"Vertex\", \"children\": [{\"name\": \"All other\", \"children\": []}]}, {\"name\": \"VertexWS\", \"children\": [{\"name\": \"All other\", \"children\": []}]}, {\"name\": \"WalletWS Private\", \"children\": [{\"name\": \"WebServices\", \"children\": [\"Step 1\", \"Lefties\", \"Uterque\", \"MassimoDutti\", \"Stradivarius\", \"Zara\", \"ZaraHome\", \"PullAndBear\", \"Oysho\", \"Bershka\"]}, {\"name\": \"All other\", \"children\": []}]}, {\"name\": \"WalletWS Private 2\", \"children\": [{\"name\": \"All other\", \"children\": []}]}, {\"name\": \"Zara\", \"children\": [{\"name\": \"Akamai\", \"children\": [\"Akamai Sureroute Test\"]}, {\"name\": \"CatalogRest\", \"children\": [\"ProductByProductId\", \"ProductDetail\", \"SizeGuide\", \"Products\", \"Category\", \"CategoryFilter\", \"ProductListCategory\", \"ProductByPartNumber\", \"CategoryByStore\", \"StoreInfo\", \"Catalog\"]}, {\"name\": \"Contacto\", \"children\": [\"Chat Visibility\"]}, {\"name\": \"Home\", \"children\": [\"Home Page\"]}, {\"name\": \"MarketingRest\", \"children\": [\"MarketingSpots\", \"SubcategoriesSpots\"]}, {\"name\": \"Navegacion Web\", \"children\": [\"Producto Seo Friendly\", \"Categoria Seo Friendly\"]}, {\"name\": \"Newsletter\", \"children\": [\"Step 1\", \"Confirmar Alta Mi Newsletter\"]}, {\"name\": \"OamRest\", \"children\": [\"LaunchData\", \"CrashInformation\", \"HealthCheck\", \"SubscribeNewsletter\", \"SubscribeNewsletterStore\"]}, {\"name\": \"OrderRest\", \"children\": [\"Pay\", \"Checkout\", \"CheckoutPrivate\", \"Order\", \"Cart\", \"Minicart\", \"ReturnMethods\", \"Invoice\", \"ShippingMethods\", \"PaymentMethods\", \"OrderInformation\", \"PromotionCode\"]}, {\"name\": \"PhysicalStoreRest\", \"children\": [\"States\", \"PhysicalStoreCountries\", \"PhysicalStores\", \"Cities\", \"PreferredPhysicalStore\", \"PickUpPoint\", \"DropPointList\", \"CountriesList\"]}, {\"name\": \"Proceso Compra\", \"children\": [\"Mini Shop Cart\"]}, {\"name\": \"SupportRest\", \"children\": [\"Visibility\", \"WorkGroups\", \"BillingSociety\", \"ContactType\"]}, {\"name\": \"UserRest\", \"children\": [\"Login\", \"GuestRegister\", \"Register\", \"ResetUserPassword\", \"RestoreUserPassword\", \"LoginGuest\", \"ChangeNotificationEmail\", \"Address\", \"CheckRegisterEmail\", \"InformationUser\", \"UserLanguage\"]}, {\"name\": \"WalletRest\", \"children\": [\"Card\"]}, {\"name\": \"All other\", \"children\": []}]}, {\"name\": \"ZaraHome\", \"children\": [{\"name\": \"Busqueda\", \"children\": [\"Navegar Resultados Busqueda\"]}, {\"name\": \"BusquedaRest\", \"children\": [\"ProductSearch\", \"Product Detail\"]}, {\"name\": \"Detalle Pago\", \"children\": [\"Punchout Paypal\", \"Punchout Rsb\", \"Punchout WorldPay\", \"Punchout WorldPayApm\", \"Punchout CyberSource\", \"Punchout Alipay\", \"Punchout Generico\"]}, {\"name\": \"DevolucionesRest\", \"children\": [\"ReturnReasons\", \"PeticionDevolucion\"]}, {\"name\": \"Estado Pago\", \"children\": [\"PaymentStatus\"]}, {\"name\": \"Home Page\", \"children\": [\"Step 1\", \"Home Page\"]}, {\"name\": \"LibroDireccionesRest\", \"children\": [\"Address\", \"AddressBook\"]}, {\"name\": \"LogonRest\", \"children\": [\"LogonGuest\", \"Logon\", \"PasswordMobile\"]}, {\"name\": \"MarketingSpotRest\", \"children\": [\"Step 1\", \"SpotList\"]}, {\"name\": \"Navegacion Web\", \"children\": [\"Step 1\", \"Producto Seo Friendly\", \"Categoria Seo Friendly\", \"Product\", \"ProductStock\", \"Category\", \"StoreInfoDetails\", \"BundleColors\", \"CategoryStock\", \"CategoryList\"]}, {\"name\": \"NavegacionRest\", \"children\": [\"Step 1\", \"ProductStock\", \"StoreInfoDetails\", \"BundleColors\", \"Category\", \"CategoryStock\", \"CategoryList\"]}, {\"name\": \"NewsletterRest\", \"children\": [\"Step 1\", \"NewsletterConfirmation\", \"Newsletter\"]}, {\"name\": \"OamRest\", \"children\": [\"Step 1\", \"Launch\"]}, {\"name\": \"PedidosRealizadosRest\", \"children\": [\"Order\", \"OrderPreview\", \"OrderList\"]}, {\"name\": \"ProcesoCompraRest\", \"children\": [\"PaymentMethods\", \"AffinityPaymentModes\", \"ShippingMethodsByZipCode\", \"Carrito de la Compra\", \"ShippingMethods\", \"AddPromotionalCode\", \"WishList\", \"UserWalletCards\", \"StockAvailabilityNotification\"]}, {\"name\": \"RegistroRest\", \"children\": [\"Registrar Usuario\"]}, {\"name\": \"RestoEstandar\", \"children\": [\"RestoEstandar\"]}, {\"name\": \"Solicitar Pago\", \"children\": [\"AsyncCheckout Merchant\", \"AsyncCheckout\", \"Checkout\", \"CheckoutPayment\"]}, {\"name\": \"TarjetaRegaloRest\", \"children\": [\"GiftCardBalance\"]}, {\"name\": \"TiendaRest\", \"children\": [\"Step 1\"]}, {\"name\": \"TiendasFavoritasRest\", \"children\": [\"Step 1\"]}, {\"name\": \"UsuarioRest\", \"children\": [\"Datos de Usuario\"]}, {\"name\": \"All other\", \"children\": []}]}]\n"
     ]
    }
   ],
   "source": [
    "cleanUpName = lambda x: x.get('name') != \"All other\"\n",
    "cleanUpTransactions = lambda x: x.get('transactions') not in (None, \"All Other\")\n",
    "\n",
    "applications = [\n",
    "    {\"name\": application['name'], \n",
    "     \"children\": [{\n",
    "         \"name\": transaction['name'], \n",
    "         \"children\": \n",
    "             [{\"name\": step['name']} for step in transaction['steps'] if cleanUpName(step)]\n",
    "     } for transaction in application.get('transactions')]}\n",
    "    for application in yaml_output if cleanUpName(application) and cleanUpTransactions(application)]\n",
    "\n",
    "print(json.dumps(applications))\n",
    "\n"
   ]
  },
  {
   "cell_type": "code",
   "execution_count": 16,
   "metadata": {},
   "outputs": [
    {
     "data": {
      "text/plain": [
       "'{\"name\": \"Bershka\", \"children\": [{\"name\": \"BusquedaRest\", \"children\": [\"ProductSearch\", \"Product Detail\"]}, {\"name\": \"Detalle Pago\", \"children\": [\"Punchout CyberSource\", \"Punchout Paypal\", \"Punchout Rsb\", \"Punchout WorldPay\", \"Punchout WorldPayApm\", \"Punchout Alipay\"]}, {\"name\": \"DevolucionesRest\", \"children\": [\"ReturnReasons\", \"PeticionDevolucion\"]}, {\"name\": \"Estado Pago\", \"children\": [\"PaymentStatus\"]}, {\"name\": \"FacturasRest\", \"children\": []}, {\"name\": \"Home\", \"children\": [\"Home Page\"]}, {\"name\": \"LibroDireccionesRest\", \"children\": [\"AddressBook\", \"Address\"]}, {\"name\": \"LogonRest\", \"children\": [\"LogonGuest\", \"Logon\", \"PasswordMobile\"]}, {\"name\": \"MarketingSpot\", \"children\": [\"SpotList\"]}, {\"name\": \"Mobile\", \"children\": [\"Step 1\"]}, {\"name\": \"Navegacion Web\", \"children\": [\"Producto Seo Friendly\", \"Categoria Seo Friendly\"]}, {\"name\": \"NavegacionRest\", \"children\": [\"ProductList\", \"CategoryStock\", \"Category\", \"ProductStock\", \"ProductListStock\", \"BundleColors\", \"StoreInfoDetails\", \"CategoryList\"]}, {\"name\": \"NewsletterRest\", \"children\": [\"NewsletterConfirmation\", \"Newsletter\"]}, {\"name\": \"PedidosRealizadosRest\", \"children\": [\"OrderPreview\", \"OrderList\", \"Order\"]}, {\"name\": \"ProcesoCompraRest\", \"children\": [\"StockAvailabilityNotification\", \"WishList\", \"WalletInfo\", \"UserWalletCards\", \"ShippingMethods\", \"AddPromotionalCode\", \"PaymentMethods\", \"CheckoutShipping\", \"IdealBanks\", \"Carrito de la Compra\"]}, {\"name\": \"RegistroRest\", \"children\": [\"Registrar Usuario\", \"RestoEstandar\"]}, {\"name\": \"Solicitar Pago\", \"children\": [\"Checkout\", \"CheckoutPayment\", \"AsyncCheckout\", \"AsyncRepay\"]}, {\"name\": \"TarjetaRegaloRest\", \"children\": [\"Step 1\"]}, {\"name\": \"TiendaRest\", \"children\": [\"StateList\", \"PhysicalStore\", \"PhysicalStoreList\", \"CountryList\", \"DropPointList\"]}, {\"name\": \"TiendasFavoritasRest\", \"children\": [\"Step 1\"]}, {\"name\": \"UsuarioRest\", \"children\": [\"Datos de Usuario\"]}, {\"name\": \"All other\", \"children\": []}]}'"
      ]
     },
     "execution_count": 16,
     "metadata": {},
     "output_type": "execute_result"
    }
   ],
   "source": [
    "json.dumps(applications[0])"
   ]
  },
  {
   "cell_type": "code",
   "execution_count": 12,
   "metadata": {
    "collapsed": true
   },
   "outputs": [],
   "source": []
  },
  {
   "cell_type": "code",
   "execution_count": null,
   "metadata": {
    "collapsed": true
   },
   "outputs": [],
   "source": []
  }
 ],
 "metadata": {
  "kernelspec": {
   "display_name": "Python 3",
   "language": "python",
   "name": "python3"
  },
  "language_info": {
   "codemirror_mode": {
    "name": "ipython",
    "version": 3
   },
   "file_extension": ".py",
   "mimetype": "text/x-python",
   "name": "python",
   "nbconvert_exporter": "python",
   "pygments_lexer": "ipython3",
   "version": "3.6.1"
  }
 },
 "nbformat": 4,
 "nbformat_minor": 2
}
