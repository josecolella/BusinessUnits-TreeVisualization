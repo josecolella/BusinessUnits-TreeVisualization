{
 "cells": [
  {
   "cell_type": "code",
   "execution_count": 2,
   "metadata": {
    "collapsed": true
   },
   "outputs": [],
   "source": [
    "import json"
   ]
  },
  {
   "cell_type": "code",
   "execution_count": 3,
   "metadata": {
    "collapsed": true
   },
   "outputs": [],
   "source": [
    "import yaml"
   ]
  },
  {
   "cell_type": "code",
   "execution_count": 4,
   "metadata": {
    "collapsed": true
   },
   "outputs": [],
   "source": [
    "with open('BusinessUnits.yml') as f:\n",
    "    yaml_output = yaml.load(f.read())"
   ]
  },
  {
   "cell_type": "code",
   "execution_count": 5,
   "metadata": {},
   "outputs": [
    {
     "data": {
      "text/plain": [
       "list"
      ]
     },
     "execution_count": 5,
     "metadata": {},
     "output_type": "execute_result"
    }
   ],
   "source": [
    "type(yaml_output)"
   ]
  },
  {
   "cell_type": "code",
   "execution_count": 6,
   "metadata": {},
   "outputs": [
    {
     "data": {
      "text/plain": [
       "dict_keys(['name', 'uid', 'type', 'primarySource', 'filtered', 'transactions', 'rules', 'id'])"
      ]
     },
     "execution_count": 6,
     "metadata": {},
     "output_type": "execute_result"
    }
   ],
   "source": [
    "yaml_output[1].keys()"
   ]
  },
  {
   "cell_type": "markdown",
   "metadata": {},
   "source": [
    "## name of the application"
   ]
  },
  {
   "cell_type": "code",
   "execution_count": 7,
   "metadata": {},
   "outputs": [
    {
     "data": {
      "text/plain": [
       "'Bershka'"
      ]
     },
     "execution_count": 7,
     "metadata": {},
     "output_type": "execute_result"
    }
   ],
   "source": [
    "yaml_output[1]['name']"
   ]
  },
  {
   "cell_type": "markdown",
   "metadata": {},
   "source": [
    "## Transactions of the application"
   ]
  },
  {
   "cell_type": "code",
   "execution_count": 8,
   "metadata": {},
   "outputs": [
    {
     "name": "stdout",
     "output_type": "stream",
     "text": [
      "<class 'list'>\n"
     ]
    }
   ],
   "source": [
    "# make sure to not include transactions that are null and `All other` application\n",
    "applications_transactions = [{\"application\": i.get('name'), \"transactions\": i.get('transactions'), \"type\": type(i.get('transactions'))} for i in yaml_output if i.get('name') != \"All other\" and i.get('transactions') not in (None, \"All other\")]\n",
    "print(type(applications_transactions))\n",
    "#print(applications_transactions[0])\n",
    "#print(json.dumps(applications_transactions))"
   ]
  },
  {
   "cell_type": "code",
   "execution_count": 13,
   "metadata": {
    "collapsed": true
   },
   "outputs": [],
   "source": [
    "cleanUpName = lambda x: x.get('name') != \"All other\"\n",
    "cleanUpTransactions = lambda x: x.get('transactions') not in (None, \"All Other\")\n",
    "\n",
    "# applications = {}\n",
    "# for application in yaml_output:\n",
    "#      if cleanUpName(application) and cleanUpTransactions(application):\n",
    "#             applications[application.get('name')] = {}\n",
    "#             application_transactions = application.get('transactions')\n",
    "#             for transaction in application_transactions:\n",
    "#                 if cleanUpName(transaction):\n",
    "#                     applications[application.get('name')][transaction['name']] = [step['name'] for step in transaction['steps'] if step.get('name') != 'All other']\n",
    "#                 #print(json.dumps(applications))\n"
   ]
  },
  {
   "cell_type": "code",
   "execution_count": 17,
   "metadata": {
    "scrolled": false
   },
   "outputs": [
    {
     "name": "stdout",
     "output_type": "stream",
     "text": [
      "[{\"name\": \"Bershka\", \"children\": [{\"name\": \"BusquedaRest\", \"children\": [{\"name\": \"ProductSearch\"}, {\"name\": \"Product Detail\"}]}, {\"name\": \"Detalle Pago\", \"children\": [{\"name\": \"Punchout CyberSource\"}, {\"name\": \"Punchout Paypal\"}, {\"name\": \"Punchout Rsb\"}, {\"name\": \"Punchout WorldPay\"}, {\"name\": \"Punchout WorldPayApm\"}, {\"name\": \"Punchout Alipay\"}]}, {\"name\": \"DevolucionesRest\", \"children\": [{\"name\": \"ReturnReasons\"}, {\"name\": \"PeticionDevolucion\"}]}, {\"name\": \"Estado Pago\", \"children\": [{\"name\": \"PaymentStatus\"}]}, {\"name\": \"FacturasRest\", \"children\": []}, {\"name\": \"Home\", \"children\": [{\"name\": \"Home Page\"}]}, {\"name\": \"LibroDireccionesRest\", \"children\": [{\"name\": \"AddressBook\"}, {\"name\": \"Address\"}]}, {\"name\": \"LogonRest\", \"children\": [{\"name\": \"LogonGuest\"}, {\"name\": \"Logon\"}, {\"name\": \"PasswordMobile\"}]}, {\"name\": \"MarketingSpot\", \"children\": [{\"name\": \"SpotList\"}]}, {\"name\": \"Mobile\", \"children\": [{\"name\": \"Step 1\"}]}, {\"name\": \"Navegacion Web\", \"children\": [{\"name\": \"Producto Seo Friendly\"}, {\"name\": \"Categoria Seo Friendly\"}]}, {\"name\": \"NavegacionRest\", \"children\": [{\"name\": \"ProductList\"}, {\"name\": \"CategoryStock\"}, {\"name\": \"Category\"}, {\"name\": \"ProductStock\"}, {\"name\": \"ProductListStock\"}, {\"name\": \"BundleColors\"}, {\"name\": \"StoreInfoDetails\"}, {\"name\": \"CategoryList\"}]}, {\"name\": \"NewsletterRest\", \"children\": [{\"name\": \"NewsletterConfirmation\"}, {\"name\": \"Newsletter\"}]}, {\"name\": \"PedidosRealizadosRest\", \"children\": [{\"name\": \"OrderPreview\"}, {\"name\": \"OrderList\"}, {\"name\": \"Order\"}]}, {\"name\": \"ProcesoCompraRest\", \"children\": [{\"name\": \"StockAvailabilityNotification\"}, {\"name\": \"WishList\"}, {\"name\": \"WalletInfo\"}, {\"name\": \"UserWalletCards\"}, {\"name\": \"ShippingMethods\"}, {\"name\": \"AddPromotionalCode\"}, {\"name\": \"PaymentMethods\"}, {\"name\": \"CheckoutShipping\"}, {\"name\": \"IdealBanks\"}, {\"name\": \"Carrito de la Compra\"}]}, {\"name\": \"RegistroRest\", \"children\": [{\"name\": \"Registrar Usuario\"}, {\"name\": \"RestoEstandar\"}]}, {\"name\": \"Solicitar Pago\", \"children\": [{\"name\": \"Checkout\"}, {\"name\": \"CheckoutPayment\"}, {\"name\": \"AsyncCheckout\"}, {\"name\": \"AsyncRepay\"}]}, {\"name\": \"TarjetaRegaloRest\", \"children\": [{\"name\": \"Step 1\"}]}, {\"name\": \"TiendaRest\", \"children\": [{\"name\": \"StateList\"}, {\"name\": \"PhysicalStore\"}, {\"name\": \"PhysicalStoreList\"}, {\"name\": \"CountryList\"}, {\"name\": \"DropPointList\"}]}, {\"name\": \"TiendasFavoritasRest\", \"children\": [{\"name\": \"Step 1\"}]}, {\"name\": \"UsuarioRest\", \"children\": [{\"name\": \"Datos de Usuario\"}]}, {\"name\": \"All other\", \"children\": []}]}, {\"name\": \"ChatZara\", \"children\": [{\"name\": \"All other\", \"children\": []}]}, {\"name\": \"CommerceInventory\", \"children\": [{\"name\": \"All other\", \"children\": []}]}, {\"name\": \"Compas\", \"children\": [{\"name\": \"All other\", \"children\": []}]}, {\"name\": \"Exclusiones\", \"children\": [{\"name\": \"All other\", \"children\": []}]}, {\"name\": \"GipiCadenas\", \"children\": [{\"name\": \"All other\", \"children\": []}]}, {\"name\": \"GipiZara\", \"children\": [{\"name\": \"All other\", \"children\": []}]}, {\"name\": \"InDomWS\", \"children\": [{\"name\": \"CancelOrder\", \"children\": [{\"name\": \"CancelOrder\"}]}, {\"name\": \"ModifyOrder\", \"children\": [{\"name\": \"ModifyOrder\"}]}, {\"name\": \"NewOrder\", \"children\": [{\"name\": \"NewOrder\"}]}, {\"name\": \"StockQuery\", \"children\": [{\"name\": \"StockQuery\"}]}, {\"name\": \"UpdateAddress\", \"children\": [{\"name\": \"UpdateAddress\"}]}, {\"name\": \"All other\", \"children\": []}]}, {\"name\": \"InDomZaraWS\", \"children\": [{\"name\": \"All other\", \"children\": []}]}, {\"name\": \"InWallet\", \"children\": [{\"name\": \"All other\", \"children\": []}]}, {\"name\": \"Lefties\", \"children\": [{\"name\": \"AutorizacionPagosRest\", \"children\": [{\"name\": \"Step 1\"}]}, {\"name\": \"Busqueda\", \"children\": []}, {\"name\": \"BusquedaRest\", \"children\": [{\"name\": \"Step 1\"}, {\"name\": \"ProductSearch\"}, {\"name\": \"Product Detail\"}]}, {\"name\": \"Detalle Pago\", \"children\": [{\"name\": \"Step 1\"}, {\"name\": \"Punchout Generico\"}, {\"name\": \"Punchout CyberSource\"}, {\"name\": \"Punchout Paypal\"}, {\"name\": \"Punchout Rsb\"}, {\"name\": \"Punchout WorldPayApm\"}, {\"name\": \"Punchout Alipay\"}]}, {\"name\": \"DevolucionesRest\", \"children\": [{\"name\": \"PeticionDevolucion\"}, {\"name\": \"ReturnReasons\"}]}, {\"name\": \"Estado Pago\", \"children\": [{\"name\": \"Step 1\"}, {\"name\": \"PaymentStatus\"}]}, {\"name\": \"Home\", \"children\": [{\"name\": \"Step 1\"}, {\"name\": \"Home Page\"}]}, {\"name\": \"itxrest\", \"children\": [{\"name\": \"Step 1\"}]}, {\"name\": \"LibroDireccionesRest\", \"children\": [{\"name\": \"Step 1\"}, {\"name\": \"Address\"}, {\"name\": \"AddressBook\"}]}, {\"name\": \"LogonRest\", \"children\": [{\"name\": \"Step 1\"}, {\"name\": \"LogonGuest\"}, {\"name\": \"Logon\"}]}, {\"name\": \"MarketingSpotRest\", \"children\": [{\"name\": \"Step 1\"}, {\"name\": \"SpotList\"}]}, {\"name\": \"Navegacion Web\", \"children\": [{\"name\": \"Step 1\"}, {\"name\": \"Category\"}, {\"name\": \"Product Seo Friendly\"}]}, {\"name\": \"NavegacionRest\", \"children\": [{\"name\": \"Step 1\"}, {\"name\": \"ProductList\"}, {\"name\": \"CategoryStock\"}, {\"name\": \"Category\"}, {\"name\": \"ProductStock\"}, {\"name\": \"ProductListStock\"}, {\"name\": \"BundleColors\"}, {\"name\": \"StoreInfoDetails\"}, {\"name\": \"CategoryList\"}]}, {\"name\": \"NewsletterRest\", \"children\": [{\"name\": \"NewsletterConfirmation\"}, {\"name\": \"Newsletter\"}]}, {\"name\": \"OamRest\", \"children\": [{\"name\": \"Step 1\"}]}, {\"name\": \"PedidosRealizadosRest\", \"children\": [{\"name\": \"Step 1\"}, {\"name\": \"OrderPreview\"}, {\"name\": \"OrderList\"}, {\"name\": \"Order\"}]}, {\"name\": \"ProcesoCompraRest\", \"children\": [{\"name\": \"Step 1\"}, {\"name\": \"StockAvailabilityNotification\"}, {\"name\": \"WishList\"}, {\"name\": \"WalletInfo\"}, {\"name\": \"UserWalletCards\"}, {\"name\": \"ShippingMethods\"}, {\"name\": \"AddPromotionalCode\"}, {\"name\": \"PaymentMethods\"}, {\"name\": \"CheckoutShipping\"}, {\"name\": \"IdealBanks\"}, {\"name\": \"Carrito de la Compra\"}]}, {\"name\": \"RegistroRest\", \"children\": [{\"name\": \"Step 1\"}, {\"name\": \"Registrar Usuario\"}]}, {\"name\": \"SolicitarPago\", \"children\": [{\"name\": \"Step 1\"}, {\"name\": \"Checkout\"}, {\"name\": \"CheckoutPayment\"}, {\"name\": \"AsyncCheckout\"}, {\"name\": \"AsyncRepay\"}]}, {\"name\": \"TarjetaRegaloRest\", \"children\": [{\"name\": \"Step 1\"}]}, {\"name\": \"TiendaRest\", \"children\": [{\"name\": \"Step 1\"}, {\"name\": \"StateList\"}, {\"name\": \"PhysicalStore\"}, {\"name\": \"PhysicalStoreList\"}, {\"name\": \"CountryList\"}, {\"name\": \"DropPointList\"}]}, {\"name\": \"TiendasFavoritasRest\", \"children\": [{\"name\": \"Step 1\"}]}, {\"name\": \"UsuarioRest\", \"children\": [{\"name\": \"Step 1\"}, {\"name\": \"Datos de Usuario\"}]}, {\"name\": \"All other\", \"children\": []}]}, {\"name\": \"MassimoDutti\", \"children\": [{\"name\": \"BusquedaRest\", \"children\": [{\"name\": \"ProductSearch\"}, {\"name\": \"Product Detail\"}]}, {\"name\": \"Detalle Pago\", \"children\": [{\"name\": \"Punchout Generico\"}, {\"name\": \"Punchout CyberSource\"}, {\"name\": \"Punchout Paypal\"}, {\"name\": \"Punchout Rsb\"}, {\"name\": \"Punchout WorldPay\"}, {\"name\": \"Punchout WorldPayApm\"}, {\"name\": \"Punchout Alipay\"}]}, {\"name\": \"DevolucionesRest\", \"children\": [{\"name\": \"ReturnReasons\"}, {\"name\": \"PeticionDevolucion\"}]}, {\"name\": \"Estado Pago\", \"children\": [{\"name\": \"PaymentStatus\"}]}, {\"name\": \"FacturasRest\", \"children\": [{\"name\": \"Step 1\"}]}, {\"name\": \"Home\", \"children\": [{\"name\": \"Home Page\"}]}, {\"name\": \"Home WebMobile\", \"children\": [{\"name\": \"Step 1\"}]}, {\"name\": \"itxrest\", \"children\": [{\"name\": \"Step 1\"}]}, {\"name\": \"LibroDireccionesRest\", \"children\": [{\"name\": \"AddressBook\"}, {\"name\": \"Address\"}]}, {\"name\": \"Login\", \"children\": [{\"name\": \"Step 1\"}]}, {\"name\": \"LogonRest\", \"children\": [{\"name\": \"LogonGuest\"}, {\"name\": \"Logon\"}]}, {\"name\": \"MarketingSpotRest\", \"children\": [{\"name\": \"SpotList\"}]}, {\"name\": \"Mobile\", \"children\": [{\"name\": \"Step 1\"}]}, {\"name\": \"Navegacion Web\", \"children\": [{\"name\": \"Category\"}, {\"name\": \"Producto Seo Friendly\"}, {\"name\": \"Categoria Seo Friendly\"}]}, {\"name\": \"Navegacion WebMobile\", \"children\": [{\"name\": \"Step 1\"}]}, {\"name\": \"NavegacionRest\", \"children\": [{\"name\": \"ProductList\"}, {\"name\": \"CategoryStock\"}, {\"name\": \"Category\"}, {\"name\": \"ProductStock\"}, {\"name\": \"ProductListStock\"}, {\"name\": \"BundleColors\"}, {\"name\": \"StoreInfoDetails\"}, {\"name\": \"CategoryList\"}]}, {\"name\": \"NewsletterRest\", \"children\": [{\"name\": \"Step 1\"}, {\"name\": \"NewsletterConfirmation\"}, {\"name\": \"Newsletter\"}]}, {\"name\": \"OAMRest\", \"children\": [{\"name\": \"Step 1\"}]}, {\"name\": \"PedidosRealizadosRest\", \"children\": [{\"name\": \"Step 1\"}, {\"name\": \"OrderPreview\"}, {\"name\": \"OrderList\"}, {\"name\": \"Order\"}]}, {\"name\": \"ProcesoCompraRest\", \"children\": [{\"name\": \"StockAvailabilityNotification\"}, {\"name\": \"WishList\"}, {\"name\": \"WalletInfo\"}, {\"name\": \"UserWalletCards\"}, {\"name\": \"ShippingMethods\"}, {\"name\": \"AddPromotionalCode\"}, {\"name\": \"PaymentMethods\"}, {\"name\": \"CheckoutShipping\"}, {\"name\": \"IdealBanks\"}, {\"name\": \"Carrito de la Compra\"}]}, {\"name\": \"RegistroRest\", \"children\": [{\"name\": \"Step 1\"}, {\"name\": \"Registrar Usuario\"}]}, {\"name\": \"RestoEstandar\", \"children\": [{\"name\": \"Step 1\"}]}, {\"name\": \"Solicitar Pago\", \"children\": [{\"name\": \"Step 1\"}, {\"name\": \"Checkout\"}, {\"name\": \"CheckoutPayment\"}, {\"name\": \"AsyncCheckout\"}, {\"name\": \"AsyncRepay\"}]}, {\"name\": \"TarjetaRegaloRest\", \"children\": [{\"name\": \"Step 1\"}]}, {\"name\": \"TiendaRest\", \"children\": [{\"name\": \"Step 1\"}, {\"name\": \"StateList\"}, {\"name\": \"PhysicalStore\"}, {\"name\": \"PhysicalStoreList\"}, {\"name\": \"CountryList\"}, {\"name\": \"DropPointList\"}]}, {\"name\": \"TiendasFavoritasRest\", \"children\": [{\"name\": \"Step 1\"}]}, {\"name\": \"UsuarioRest\", \"children\": [{\"name\": \"Datos de Usuario\"}]}, {\"name\": \"All other\", \"children\": []}]}, {\"name\": \"Moca\", \"children\": [{\"name\": \"All other\", \"children\": []}]}, {\"name\": \"MPS\", \"children\": [{\"name\": \"All other\", \"children\": []}]}, {\"name\": \"Oysho\", \"children\": [{\"name\": \"BusquedaRest\", \"children\": [{\"name\": \"Step 1\"}, {\"name\": \"ProductSearch\"}, {\"name\": \"Product Detail\"}]}, {\"name\": \"Detalle Pago\", \"children\": [{\"name\": \"Step 1\"}, {\"name\": \"Punchout Generico\"}, {\"name\": \"Punchout CyberSource\"}, {\"name\": \"Punchout Paypal\"}, {\"name\": \"Punchout Rsb\"}, {\"name\": \"Punchout WorldPay\"}, {\"name\": \"Punchout WorldPayApm\"}, {\"name\": \"Punchout Alipay\"}]}, {\"name\": \"DevolucionesRest\", \"children\": [{\"name\": \"Step 1\"}, {\"name\": \"ReturnReasons\"}, {\"name\": \"PeticionDevolucion\"}]}, {\"name\": \"Estado Pago\", \"children\": [{\"name\": \"Step 1\"}, {\"name\": \"PaymentStatus\"}]}, {\"name\": \"Home\", \"children\": [{\"name\": \"Step 1\"}, {\"name\": \"Home Page\"}]}, {\"name\": \"Home WebMobile\", \"children\": [{\"name\": \"Step 1\"}]}, {\"name\": \"itxrest\", \"children\": [{\"name\": \"Step 1\"}]}, {\"name\": \"LibroDireccionesRest\", \"children\": [{\"name\": \"Step 1\"}, {\"name\": \"AddressBook\"}, {\"name\": \"Address\"}]}, {\"name\": \"LogonRest\", \"children\": [{\"name\": \"Step 1\"}, {\"name\": \"LogonGuest\"}, {\"name\": \"Logon\"}, {\"name\": \"PasswordMobile\"}]}, {\"name\": \"MarketingSpotRest\", \"children\": [{\"name\": \"Step 1\"}, {\"name\": \"SpotList\"}]}, {\"name\": \"Mobile\", \"children\": [{\"name\": \"Step 1\"}]}, {\"name\": \"Navegacion Web\", \"children\": [{\"name\": \"Step 1\"}, {\"name\": \"Category\"}, {\"name\": \"Producto Seo Friendly\"}, {\"name\": \"Categoria Seo Friendly\"}]}, {\"name\": \"Navegacion WebMobile\", \"children\": [{\"name\": \"Step 1\"}, {\"name\": \"NavegacionRest\"}]}, {\"name\": \"NavegacionRest\", \"children\": [{\"name\": \"Step 1\"}, {\"name\": \"ProductList\"}, {\"name\": \"CategoryStock\"}, {\"name\": \"Category\"}, {\"name\": \"ProductStock\"}, {\"name\": \"ProductListStock\"}, {\"name\": \"BundleColors\"}, {\"name\": \"StoreInfoDetails\"}, {\"name\": \"CategoryList\"}]}, {\"name\": \"NewsletterRest\", \"children\": [{\"name\": \"Step 1\"}, {\"name\": \"NewsletterConfirmation\"}, {\"name\": \"Newsletter\"}]}, {\"name\": \"OamRest\", \"children\": [{\"name\": \"Step 1\"}]}, {\"name\": \"PedidosRealizadosRest\", \"children\": [{\"name\": \"Step 1\"}, {\"name\": \"OrderPreview\"}, {\"name\": \"OrderList\"}, {\"name\": \"Order\"}]}, {\"name\": \"ProcesoCompraRest\", \"children\": [{\"name\": \"Step 1\"}, {\"name\": \"StockAvailabilityNotification\"}, {\"name\": \"WishList\"}, {\"name\": \"WalletInfo\"}, {\"name\": \"UserWalletCards\"}, {\"name\": \"ShippingMethods\"}, {\"name\": \"AddPromotionalCode\"}, {\"name\": \"PaymentMethods\"}, {\"name\": \"CheckoutShipping\"}, {\"name\": \"IdealBanks\"}, {\"name\": \"Carrito de la Compra\"}]}, {\"name\": \"RegistroRest\", \"children\": [{\"name\": \"Step 1\"}, {\"name\": \"Registrar Usuario\"}]}, {\"name\": \"RestoEstandar\", \"children\": [{\"name\": \"Step 1\"}]}, {\"name\": \"Solicitar Pago\", \"children\": [{\"name\": \"Step 1\"}, {\"name\": \"Checkout\"}, {\"name\": \"CheckoutPayment\"}, {\"name\": \"AsyncCheckout\"}, {\"name\": \"AsyncRepay\"}]}, {\"name\": \"TarjetaRegaloRest\", \"children\": [{\"name\": \"Step 1\"}]}, {\"name\": \"TiendaRest\", \"children\": [{\"name\": \"Step 1\"}, {\"name\": \"StateList\"}, {\"name\": \"PhysicalStore\"}, {\"name\": \"PhysicalStoreList\"}, {\"name\": \"CountryList\"}, {\"name\": \"DropPointList\"}]}, {\"name\": \"TiendasFavoritasRest\", \"children\": [{\"name\": \"Step 1\"}]}, {\"name\": \"UsuarioRest\", \"children\": [{\"name\": \"Step 1\"}, {\"name\": \"Datos de Usuario\"}]}, {\"name\": \"All other\", \"children\": []}]}, {\"name\": \"PullAndBear\", \"children\": [{\"name\": \"BusquedaRest\", \"children\": [{\"name\": \"ProductSearch\"}, {\"name\": \"Product Detail\"}]}, {\"name\": \"Detalle Pago\", \"children\": [{\"name\": \"Punchout Generico\"}, {\"name\": \"Punchout CyberSource\"}, {\"name\": \"Punchout Paypal\"}, {\"name\": \"Punchout Rsb\"}, {\"name\": \"Punchout WorldPay\"}, {\"name\": \"Punchout WorldPayApm\"}, {\"name\": \"Punchout Alipay\"}]}, {\"name\": \"DevolucionesRest\", \"children\": [{\"name\": \"ReturnReasons\"}, {\"name\": \"PeticionDevolucion\"}]}, {\"name\": \"Estado Pago\", \"children\": [{\"name\": \"PaymentStatus\"}]}, {\"name\": \"Home\", \"children\": [{\"name\": \"Home Page\"}]}, {\"name\": \"Home WebMobile\", \"children\": [{\"name\": \"Step 1\"}]}, {\"name\": \"itxrest\", \"children\": [{\"name\": \"Step 1\"}]}, {\"name\": \"LibroDireccionRest\", \"children\": [{\"name\": \"AddressBook\"}, {\"name\": \"Address\"}]}, {\"name\": \"LogonRest\", \"children\": [{\"name\": \"LogonGuest\"}, {\"name\": \"Logon\"}, {\"name\": \"PasswordMobile\"}]}, {\"name\": \"MarketingSpotRest\", \"children\": [{\"name\": \"SpotList\"}]}, {\"name\": \"Mobile\", \"children\": [{\"name\": \"Step 1\"}]}, {\"name\": \"Navegacion Web\", \"children\": [{\"name\": \"Category\"}, {\"name\": \"Producto Seo Friendly\"}, {\"name\": \"Categoria Seo Friendly\"}]}, {\"name\": \"NavegacionRest\", \"children\": [{\"name\": \"ProductList\"}, {\"name\": \"CategoryStock\"}, {\"name\": \"Category\"}, {\"name\": \"ProductStock\"}, {\"name\": \"ProductListStock\"}, {\"name\": \"BundleColors\"}, {\"name\": \"StoreInfoDetails\"}, {\"name\": \"CategoryList\"}]}, {\"name\": \"NewsletterRest\", \"children\": [{\"name\": \"NewsletterConfirmation\"}, {\"name\": \"Newsletter\"}]}, {\"name\": \"PedidosRealizadosRest\", \"children\": [{\"name\": \"OrderPreview\"}, {\"name\": \"OrderList\"}, {\"name\": \"Order\"}]}, {\"name\": \"ProcesoCompraRest\", \"children\": [{\"name\": \"StockAvailabilityNotification\"}, {\"name\": \"WishList\"}, {\"name\": \"WalletInfo\"}, {\"name\": \"UserWalletCards\"}, {\"name\": \"ShippingMethods\"}, {\"name\": \"AddPromotionalCode\"}, {\"name\": \"PaymentMethods\"}, {\"name\": \"CheckoutShipping\"}, {\"name\": \"IdealBanks\"}, {\"name\": \"Carrito de la Compra\"}]}, {\"name\": \"RegistroRest\", \"children\": [{\"name\": \"Registrar Usuario\"}]}, {\"name\": \"RestoEstandar\", \"children\": [{\"name\": \"Step 1\"}]}, {\"name\": \"Solicitar Pago\", \"children\": [{\"name\": \"Checkout\"}, {\"name\": \"CheckoutPayment\"}, {\"name\": \"AsyncCheckout\"}, {\"name\": \"AsyncRepay\"}]}, {\"name\": \"TarjetaRegaloRest\", \"children\": [{\"name\": \"Step 1\"}]}, {\"name\": \"TiendaRest\", \"children\": [{\"name\": \"StateList\"}, {\"name\": \"PhysicalStore\"}, {\"name\": \"PhysicalStoreList\"}, {\"name\": \"CountryList\"}, {\"name\": \"DropPointList\"}]}, {\"name\": \"TiendasFavoritasRest\", \"children\": [{\"name\": \"Step 1\"}]}, {\"name\": \"UsuarioRest\", \"children\": [{\"name\": \"Datos de Usuario\"}]}, {\"name\": \"All other\", \"children\": []}]}, {\"name\": \"PushZara\", \"children\": [{\"name\": \"Device\", \"children\": [{\"name\": \"Notification\"}, {\"name\": \"Device\"}]}, {\"name\": \"All other\", \"children\": []}]}, {\"name\": \"Recuperacion Ticket eCommerce\", \"children\": [{\"name\": \"All other\", \"children\": []}]}, {\"name\": \"RupertaWS\", \"children\": [{\"name\": \"All other\", \"children\": []}]}, {\"name\": \"Static Bershka\", \"children\": [{\"name\": \"All other\", \"children\": []}]}, {\"name\": \"Static Lefties\", \"children\": [{\"name\": \"All other\", \"children\": []}]}, {\"name\": \"Static MassimoDutti\", \"children\": [{\"name\": \"All other\", \"children\": []}]}, {\"name\": \"Static Oysho\", \"children\": [{\"name\": \"All other\", \"children\": []}]}, {\"name\": \"Static PullAndBear\", \"children\": [{\"name\": \"All other\", \"children\": []}]}, {\"name\": \"Static Stradivarius\", \"children\": [{\"name\": \"All other\", \"children\": []}]}, {\"name\": \"Static Uterque\", \"children\": [{\"name\": \"All other\", \"children\": []}]}, {\"name\": \"Static Zara\", \"children\": [{\"name\": \"All other\", \"children\": []}]}, {\"name\": \"Static ZaraHome\", \"children\": [{\"name\": \"All other\", \"children\": []}]}, {\"name\": \"Stradivarius\", \"children\": [{\"name\": \"Busqueda\", \"children\": [{\"name\": \"Step 1\"}]}, {\"name\": \"BusquedaRest\", \"children\": [{\"name\": \"Step 1\"}, {\"name\": \"ProductSearch\"}, {\"name\": \"Product Detail\"}]}, {\"name\": \"Detalle Pago\", \"children\": [{\"name\": \"Step 1\"}, {\"name\": \"Punchout Generico\"}, {\"name\": \"Punchout CyberSource\"}, {\"name\": \"Punchout Paypal\"}, {\"name\": \"Punchout Rsb\"}, {\"name\": \"Punchout WorldPay\"}, {\"name\": \"Punchout WorldPayApm\"}, {\"name\": \"Punchout Alipay\"}]}, {\"name\": \"DevolucionesRest\", \"children\": [{\"name\": \"Step 1\"}, {\"name\": \"PeticionDevolucion\"}]}, {\"name\": \"Estado Pago\", \"children\": [{\"name\": \"Step 1\"}, {\"name\": \"PaymentStatus\"}]}, {\"name\": \"Home\", \"children\": [{\"name\": \"Step 1\"}, {\"name\": \"Home Page\"}]}, {\"name\": \"LibroDireccionesRest\", \"children\": [{\"name\": \"Step 1\"}, {\"name\": \"AddressBook\"}, {\"name\": \"Address\"}]}, {\"name\": \"LogonRest\", \"children\": [{\"name\": \"Step 1\"}, {\"name\": \"LogonGuest\"}, {\"name\": \"Logon\"}, {\"name\": \"PasswordMobile\"}]}, {\"name\": \"MarketingSpotRest\", \"children\": [{\"name\": \"Step 1\"}, {\"name\": \"SpotList\"}]}, {\"name\": \"Navegacion Web\", \"children\": [{\"name\": \"Step 1\"}, {\"name\": \"Category\"}, {\"name\": \"Producto Seo Friendly\"}, {\"name\": \"Categoria Seo Friendly\"}]}, {\"name\": \"NavegacionRest\", \"children\": [{\"name\": \"Step 1\"}, {\"name\": \"ProductList\"}, {\"name\": \"CategoryStock\"}, {\"name\": \"Category\"}, {\"name\": \"ProductStock\"}, {\"name\": \"ProductListStock\"}, {\"name\": \"BundleColors\"}, {\"name\": \"StoreInfoDetails\"}, {\"name\": \"CategoryList\"}]}, {\"name\": \"NewsletterRest\", \"children\": [{\"name\": \"Step 1\"}, {\"name\": \"NewsletterConfirmation\"}, {\"name\": \"Newsletter\"}]}, {\"name\": \"OamRest\", \"children\": [{\"name\": \"Step 1\"}]}, {\"name\": \"PedidosRealizadosRest\", \"children\": [{\"name\": \"Step 1\"}, {\"name\": \"OrderPreview\"}, {\"name\": \"OrderList\"}, {\"name\": \"Order\"}]}, {\"name\": \"ProcesoCompraRest\", \"children\": [{\"name\": \"Step 1\"}, {\"name\": \"StockAvailabilityNotification\"}, {\"name\": \"WishList\"}, {\"name\": \"WalletInfo\"}, {\"name\": \"UserWalletCards\"}, {\"name\": \"ShippingMethods\"}, {\"name\": \"AddPromotionalCode\"}, {\"name\": \"PaymentMethods\"}, {\"name\": \"CheckoutShipping\"}, {\"name\": \"IdealBanks\"}, {\"name\": \"Carrito de la Compra\"}]}, {\"name\": \"RegistroRest\", \"children\": [{\"name\": \"Step 1\"}, {\"name\": \"Registrar Usuario\"}]}, {\"name\": \"RestoEstandar\", \"children\": [{\"name\": \"Step 1\"}]}, {\"name\": \"Solicitar Pago\", \"children\": [{\"name\": \"Step 1\"}, {\"name\": \"Checkout\"}, {\"name\": \"CheckoutPayment\"}, {\"name\": \"AsyncCheckout\"}, {\"name\": \"AsyncRepay\"}]}, {\"name\": \"TarjetaRegaloRest\", \"children\": [{\"name\": \"Step 1\"}]}, {\"name\": \"TiendaRest\", \"children\": [{\"name\": \"Step 1\"}, {\"name\": \"StateList\"}, {\"name\": \"PhysicalStore\"}, {\"name\": \"PhysicalStoreList\"}, {\"name\": \"CountryList\"}, {\"name\": \"DropPointList\"}]}, {\"name\": \"TiendasFavoritasRest\", \"children\": [{\"name\": \"Step 1\"}]}, {\"name\": \"UsuarioRest\", \"children\": [{\"name\": \"Step 1\"}, {\"name\": \"Datos de Usuario\"}]}, {\"name\": \"All other\", \"children\": []}]}, {\"name\": \"Tarjeta Regalo\", \"children\": [{\"name\": \"All other\", \"children\": []}]}, {\"name\": \"Test Zara\", \"children\": [{\"name\": \"Europe Login\", \"children\": [{\"name\": \"Step 1\"}]}, {\"name\": \"All other\", \"children\": []}]}, {\"name\": \"Uterque\", \"children\": [{\"name\": \"Busqueda\", \"children\": [{\"name\": \"Step 1\"}]}, {\"name\": \"BusquedaRest\", \"children\": [{\"name\": \"ProductSearch\"}, {\"name\": \"Product Detail\"}]}, {\"name\": \"Detalle Pago\", \"children\": [{\"name\": \"Punchout Generico\"}, {\"name\": \"Punchout CyberSource\"}, {\"name\": \"Puchout Paypal\"}, {\"name\": \"Puchout Rsb\"}, {\"name\": \"Punchout WorldPay\"}, {\"name\": \"Punchout WorldPayApm\"}, {\"name\": \"Punchout Alipay\"}]}, {\"name\": \"DevolucionesRest\", \"children\": [{\"name\": \"ReturnReasons\"}, {\"name\": \"PeticionDevolucion\"}]}, {\"name\": \"Estado Pago\", \"children\": [{\"name\": \"PaymentStatus\"}]}, {\"name\": \"Home\", \"children\": [{\"name\": \"Step 1\"}, {\"name\": \"Home Page\"}, {\"name\": \"Home Page Pais\"}]}, {\"name\": \"LibroDireccionesRest\", \"children\": [{\"name\": \"Step 1\"}, {\"name\": \"AddressBook\"}, {\"name\": \"Address\"}]}, {\"name\": \"LogonRest\", \"children\": [{\"name\": \"LogonGuest\"}, {\"name\": \"Logon\"}, {\"name\": \"PasswordMobile\"}]}, {\"name\": \"MarketingSpotRest\", \"children\": [{\"name\": \"Step 1\"}, {\"name\": \"SpotList\"}]}, {\"name\": \"Navegacion Web\", \"children\": [{\"name\": \"Category\"}, {\"name\": \"Producto Seo Friendly\"}, {\"name\": \"Categoria Seo Friendly\"}]}, {\"name\": \"NavegacionRest\", \"children\": [{\"name\": \"ProductList\"}, {\"name\": \"CategoryStock\"}, {\"name\": \"Category\"}, {\"name\": \"ProductStock\"}, {\"name\": \"ProductListStock\"}, {\"name\": \"BundleColors\"}, {\"name\": \"StoreInfoDetails\"}, {\"name\": \"CategoryList\"}]}, {\"name\": \"NewsletterRest\", \"children\": [{\"name\": \"NewsletterConfirmation\"}, {\"name\": \"Newsletter\"}]}, {\"name\": \"OamRest\", \"children\": [{\"name\": \"Step 1\"}]}, {\"name\": \"PedidosRealizadosRest\", \"children\": [{\"name\": \"OrderPreview\"}, {\"name\": \"OrderList\"}, {\"name\": \"Order\"}]}, {\"name\": \"ProcesoCompraRest\", \"children\": [{\"name\": \"StockAvailabilityNotification\"}, {\"name\": \"WishList\"}, {\"name\": \"WalletInfo\"}, {\"name\": \"UserWalletCards\"}, {\"name\": \"ShippingMethods\"}, {\"name\": \"AddPromotionalCode\"}, {\"name\": \"PaymentMethods\"}, {\"name\": \"CheckoutShipping\"}, {\"name\": \"IdealBanks\"}, {\"name\": \"Carrito de la Compra\"}]}, {\"name\": \"RegistroRest\", \"children\": [{\"name\": \"Registrar Usuario\"}]}, {\"name\": \"RestoEstandar\", \"children\": [{\"name\": \"Step 1\"}]}, {\"name\": \"Solicitar Pago\", \"children\": [{\"name\": \"Checkout\"}, {\"name\": \"CheckoutPayment\"}, {\"name\": \"AsyncCheckout\"}, {\"name\": \"AsyncRepay\"}]}, {\"name\": \"TarjetaRegaloRest\", \"children\": [{\"name\": \"Step 1\"}]}, {\"name\": \"TiendaRest\", \"children\": [{\"name\": \"StateList\"}, {\"name\": \"PhysicalStore\"}, {\"name\": \"PhysicalStoreList\"}, {\"name\": \"CountryList\"}, {\"name\": \"DropPointList\"}]}, {\"name\": \"TiendasFavortiasRest\", \"children\": [{\"name\": \"Step 1\"}]}, {\"name\": \"UsuarioRest\", \"children\": [{\"name\": \"Datos de Usuario\"}]}, {\"name\": \"All other\", \"children\": []}]}, {\"name\": \"Vertex\", \"children\": [{\"name\": \"All other\", \"children\": []}]}, {\"name\": \"VertexWS\", \"children\": [{\"name\": \"All other\", \"children\": []}]}, {\"name\": \"WalletWS Private\", \"children\": [{\"name\": \"WebServices\", \"children\": [{\"name\": \"Step 1\"}, {\"name\": \"Lefties\"}, {\"name\": \"Uterque\"}, {\"name\": \"MassimoDutti\"}, {\"name\": \"Stradivarius\"}, {\"name\": \"Zara\"}, {\"name\": \"ZaraHome\"}, {\"name\": \"PullAndBear\"}, {\"name\": \"Oysho\"}, {\"name\": \"Bershka\"}]}, {\"name\": \"All other\", \"children\": []}]}, {\"name\": \"WalletWS Private 2\", \"children\": [{\"name\": \"All other\", \"children\": []}]}, {\"name\": \"Zara\", \"children\": [{\"name\": \"Akamai\", \"children\": [{\"name\": \"Akamai Sureroute Test\"}]}, {\"name\": \"CatalogRest\", \"children\": [{\"name\": \"ProductByProductId\"}, {\"name\": \"ProductDetail\"}, {\"name\": \"SizeGuide\"}, {\"name\": \"Products\"}, {\"name\": \"Category\"}, {\"name\": \"CategoryFilter\"}, {\"name\": \"ProductListCategory\"}, {\"name\": \"ProductByPartNumber\"}, {\"name\": \"CategoryByStore\"}, {\"name\": \"StoreInfo\"}, {\"name\": \"Catalog\"}]}, {\"name\": \"Contacto\", \"children\": [{\"name\": \"Chat Visibility\"}]}, {\"name\": \"Home\", \"children\": [{\"name\": \"Home Page\"}]}, {\"name\": \"MarketingRest\", \"children\": [{\"name\": \"MarketingSpots\"}, {\"name\": \"SubcategoriesSpots\"}]}, {\"name\": \"Navegacion Web\", \"children\": [{\"name\": \"Producto Seo Friendly\"}, {\"name\": \"Categoria Seo Friendly\"}]}, {\"name\": \"Newsletter\", \"children\": [{\"name\": \"Step 1\"}, {\"name\": \"Confirmar Alta Mi Newsletter\"}]}, {\"name\": \"OamRest\", \"children\": [{\"name\": \"LaunchData\"}, {\"name\": \"CrashInformation\"}, {\"name\": \"HealthCheck\"}, {\"name\": \"SubscribeNewsletter\"}, {\"name\": \"SubscribeNewsletterStore\"}]}, {\"name\": \"OrderRest\", \"children\": [{\"name\": \"Pay\"}, {\"name\": \"Checkout\"}, {\"name\": \"CheckoutPrivate\"}, {\"name\": \"Order\"}, {\"name\": \"Cart\"}, {\"name\": \"Minicart\"}, {\"name\": \"ReturnMethods\"}, {\"name\": \"Invoice\"}, {\"name\": \"ShippingMethods\"}, {\"name\": \"PaymentMethods\"}, {\"name\": \"OrderInformation\"}, {\"name\": \"PromotionCode\"}]}, {\"name\": \"PhysicalStoreRest\", \"children\": [{\"name\": \"States\"}, {\"name\": \"PhysicalStoreCountries\"}, {\"name\": \"PhysicalStores\"}, {\"name\": \"Cities\"}, {\"name\": \"PreferredPhysicalStore\"}, {\"name\": \"PickUpPoint\"}, {\"name\": \"DropPointList\"}, {\"name\": \"CountriesList\"}]}, {\"name\": \"Proceso Compra\", \"children\": [{\"name\": \"Mini Shop Cart\"}]}, {\"name\": \"SupportRest\", \"children\": [{\"name\": \"Visibility\"}, {\"name\": \"WorkGroups\"}, {\"name\": \"BillingSociety\"}, {\"name\": \"ContactType\"}]}, {\"name\": \"UserRest\", \"children\": [{\"name\": \"Login\"}, {\"name\": \"GuestRegister\"}, {\"name\": \"Register\"}, {\"name\": \"ResetUserPassword\"}, {\"name\": \"RestoreUserPassword\"}, {\"name\": \"LoginGuest\"}, {\"name\": \"ChangeNotificationEmail\"}, {\"name\": \"Address\"}, {\"name\": \"CheckRegisterEmail\"}, {\"name\": \"InformationUser\"}, {\"name\": \"UserLanguage\"}]}, {\"name\": \"WalletRest\", \"children\": [{\"name\": \"Card\"}]}, {\"name\": \"All other\", \"children\": []}]}, {\"name\": \"ZaraHome\", \"children\": [{\"name\": \"Busqueda\", \"children\": [{\"name\": \"Navegar Resultados Busqueda\"}]}, {\"name\": \"BusquedaRest\", \"children\": [{\"name\": \"ProductSearch\"}, {\"name\": \"Product Detail\"}]}, {\"name\": \"Detalle Pago\", \"children\": [{\"name\": \"Punchout Paypal\"}, {\"name\": \"Punchout Rsb\"}, {\"name\": \"Punchout WorldPay\"}, {\"name\": \"Punchout WorldPayApm\"}, {\"name\": \"Punchout CyberSource\"}, {\"name\": \"Punchout Alipay\"}, {\"name\": \"Punchout Generico\"}]}, {\"name\": \"DevolucionesRest\", \"children\": [{\"name\": \"ReturnReasons\"}, {\"name\": \"PeticionDevolucion\"}]}, {\"name\": \"Estado Pago\", \"children\": [{\"name\": \"PaymentStatus\"}]}, {\"name\": \"Home Page\", \"children\": [{\"name\": \"Step 1\"}, {\"name\": \"Home Page\"}]}, {\"name\": \"LibroDireccionesRest\", \"children\": [{\"name\": \"Address\"}, {\"name\": \"AddressBook\"}]}, {\"name\": \"LogonRest\", \"children\": [{\"name\": \"LogonGuest\"}, {\"name\": \"Logon\"}, {\"name\": \"PasswordMobile\"}]}, {\"name\": \"MarketingSpotRest\", \"children\": [{\"name\": \"Step 1\"}, {\"name\": \"SpotList\"}]}, {\"name\": \"Navegacion Web\", \"children\": [{\"name\": \"Step 1\"}, {\"name\": \"Producto Seo Friendly\"}, {\"name\": \"Categoria Seo Friendly\"}, {\"name\": \"Product\"}, {\"name\": \"ProductStock\"}, {\"name\": \"Category\"}, {\"name\": \"StoreInfoDetails\"}, {\"name\": \"BundleColors\"}, {\"name\": \"CategoryStock\"}, {\"name\": \"CategoryList\"}]}, {\"name\": \"NavegacionRest\", \"children\": [{\"name\": \"Step 1\"}, {\"name\": \"ProductStock\"}, {\"name\": \"StoreInfoDetails\"}, {\"name\": \"BundleColors\"}, {\"name\": \"Category\"}, {\"name\": \"CategoryStock\"}, {\"name\": \"CategoryList\"}]}, {\"name\": \"NewsletterRest\", \"children\": [{\"name\": \"Step 1\"}, {\"name\": \"NewsletterConfirmation\"}, {\"name\": \"Newsletter\"}]}, {\"name\": \"OamRest\", \"children\": [{\"name\": \"Step 1\"}, {\"name\": \"Launch\"}]}, {\"name\": \"PedidosRealizadosRest\", \"children\": [{\"name\": \"Order\"}, {\"name\": \"OrderPreview\"}, {\"name\": \"OrderList\"}]}, {\"name\": \"ProcesoCompraRest\", \"children\": [{\"name\": \"PaymentMethods\"}, {\"name\": \"AffinityPaymentModes\"}, {\"name\": \"ShippingMethodsByZipCode\"}, {\"name\": \"Carrito de la Compra\"}, {\"name\": \"ShippingMethods\"}, {\"name\": \"AddPromotionalCode\"}, {\"name\": \"WishList\"}, {\"name\": \"UserWalletCards\"}, {\"name\": \"StockAvailabilityNotification\"}]}, {\"name\": \"RegistroRest\", \"children\": [{\"name\": \"Registrar Usuario\"}]}, {\"name\": \"RestoEstandar\", \"children\": [{\"name\": \"RestoEstandar\"}]}, {\"name\": \"Solicitar Pago\", \"children\": [{\"name\": \"AsyncCheckout Merchant\"}, {\"name\": \"AsyncCheckout\"}, {\"name\": \"Checkout\"}, {\"name\": \"CheckoutPayment\"}]}, {\"name\": \"TarjetaRegaloRest\", \"children\": [{\"name\": \"GiftCardBalance\"}]}, {\"name\": \"TiendaRest\", \"children\": [{\"name\": \"Step 1\"}]}, {\"name\": \"TiendasFavoritasRest\", \"children\": [{\"name\": \"Step 1\"}]}, {\"name\": \"UsuarioRest\", \"children\": [{\"name\": \"Datos de Usuario\"}]}, {\"name\": \"All other\", \"children\": []}]}]\n"
     ]
    }
   ],
   "source": [
    "cleanUpName = lambda x: x.get('name') != \"All other\"\n",
    "cleanUpTransactions = lambda x: x.get('transactions') not in (None, \"All Other\")\n",
    "\n",
    "applications = [\n",
    "    {\"name\": application['name'], \n",
    "     \"children\": [{\n",
    "         \"name\": transaction['name'], \n",
    "         \"children\": \n",
    "             [{\"name\": step['name']} for step in transaction['steps'] if cleanUpName(step)]\n",
    "     } for transaction in application.get('transactions')]}\n",
    "    for application in yaml_output if cleanUpName(application) and cleanUpTransactions(application)]\n",
    "\n",
    "print(json.dumps(applications))\n",
    "\n"
   ]
  },
  {
   "cell_type": "code",
   "execution_count": 18,
   "metadata": {},
   "outputs": [
    {
     "data": {
      "text/plain": [
       "'{\"name\": \"Bershka\", \"children\": [{\"name\": \"BusquedaRest\", \"children\": [{\"name\": \"ProductSearch\"}, {\"name\": \"Product Detail\"}]}, {\"name\": \"Detalle Pago\", \"children\": [{\"name\": \"Punchout CyberSource\"}, {\"name\": \"Punchout Paypal\"}, {\"name\": \"Punchout Rsb\"}, {\"name\": \"Punchout WorldPay\"}, {\"name\": \"Punchout WorldPayApm\"}, {\"name\": \"Punchout Alipay\"}]}, {\"name\": \"DevolucionesRest\", \"children\": [{\"name\": \"ReturnReasons\"}, {\"name\": \"PeticionDevolucion\"}]}, {\"name\": \"Estado Pago\", \"children\": [{\"name\": \"PaymentStatus\"}]}, {\"name\": \"FacturasRest\", \"children\": []}, {\"name\": \"Home\", \"children\": [{\"name\": \"Home Page\"}]}, {\"name\": \"LibroDireccionesRest\", \"children\": [{\"name\": \"AddressBook\"}, {\"name\": \"Address\"}]}, {\"name\": \"LogonRest\", \"children\": [{\"name\": \"LogonGuest\"}, {\"name\": \"Logon\"}, {\"name\": \"PasswordMobile\"}]}, {\"name\": \"MarketingSpot\", \"children\": [{\"name\": \"SpotList\"}]}, {\"name\": \"Mobile\", \"children\": [{\"name\": \"Step 1\"}]}, {\"name\": \"Navegacion Web\", \"children\": [{\"name\": \"Producto Seo Friendly\"}, {\"name\": \"Categoria Seo Friendly\"}]}, {\"name\": \"NavegacionRest\", \"children\": [{\"name\": \"ProductList\"}, {\"name\": \"CategoryStock\"}, {\"name\": \"Category\"}, {\"name\": \"ProductStock\"}, {\"name\": \"ProductListStock\"}, {\"name\": \"BundleColors\"}, {\"name\": \"StoreInfoDetails\"}, {\"name\": \"CategoryList\"}]}, {\"name\": \"NewsletterRest\", \"children\": [{\"name\": \"NewsletterConfirmation\"}, {\"name\": \"Newsletter\"}]}, {\"name\": \"PedidosRealizadosRest\", \"children\": [{\"name\": \"OrderPreview\"}, {\"name\": \"OrderList\"}, {\"name\": \"Order\"}]}, {\"name\": \"ProcesoCompraRest\", \"children\": [{\"name\": \"StockAvailabilityNotification\"}, {\"name\": \"WishList\"}, {\"name\": \"WalletInfo\"}, {\"name\": \"UserWalletCards\"}, {\"name\": \"ShippingMethods\"}, {\"name\": \"AddPromotionalCode\"}, {\"name\": \"PaymentMethods\"}, {\"name\": \"CheckoutShipping\"}, {\"name\": \"IdealBanks\"}, {\"name\": \"Carrito de la Compra\"}]}, {\"name\": \"RegistroRest\", \"children\": [{\"name\": \"Registrar Usuario\"}, {\"name\": \"RestoEstandar\"}]}, {\"name\": \"Solicitar Pago\", \"children\": [{\"name\": \"Checkout\"}, {\"name\": \"CheckoutPayment\"}, {\"name\": \"AsyncCheckout\"}, {\"name\": \"AsyncRepay\"}]}, {\"name\": \"TarjetaRegaloRest\", \"children\": [{\"name\": \"Step 1\"}]}, {\"name\": \"TiendaRest\", \"children\": [{\"name\": \"StateList\"}, {\"name\": \"PhysicalStore\"}, {\"name\": \"PhysicalStoreList\"}, {\"name\": \"CountryList\"}, {\"name\": \"DropPointList\"}]}, {\"name\": \"TiendasFavoritasRest\", \"children\": [{\"name\": \"Step 1\"}]}, {\"name\": \"UsuarioRest\", \"children\": [{\"name\": \"Datos de Usuario\"}]}, {\"name\": \"All other\", \"children\": []}]}'"
      ]
     },
     "execution_count": 18,
     "metadata": {},
     "output_type": "execute_result"
    }
   ],
   "source": [
    "json.dumps(applications[0])"
   ]
  },
  {
   "cell_type": "code",
   "execution_count": 12,
   "metadata": {
    "collapsed": true
   },
   "outputs": [],
   "source": []
  },
  {
   "cell_type": "code",
   "execution_count": null,
   "metadata": {
    "collapsed": true
   },
   "outputs": [],
   "source": []
  }
 ],
 "metadata": {
  "kernelspec": {
   "display_name": "Python 3",
   "language": "python",
   "name": "python3"
  },
  "language_info": {
   "codemirror_mode": {
    "name": "ipython",
    "version": 3
   },
   "file_extension": ".py",
   "mimetype": "text/x-python",
   "name": "python",
   "nbconvert_exporter": "python",
   "pygments_lexer": "ipython3",
   "version": "3.6.1"
  }
 },
 "nbformat": 4,
 "nbformat_minor": 2
}
